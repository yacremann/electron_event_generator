{
 "cells": [
  {
   "cell_type": "code",
   "execution_count": null,
   "metadata": {},
   "outputs": [],
   "source": [
    "# Script to generate the desired spectrum as a lookup table in SystemVerilog\n",
    "# (C) ETH Zurich 2022\n",
    "# Group of Prof. Vaterlaus\n",
    "# Author: Yves Acremann"
   ]
  },
  {
   "cell_type": "code",
   "execution_count": 1,
   "metadata": {},
   "outputs": [],
   "source": [
    "import numpy as np\n",
    "import matplotlib.pyplot as plt\n",
    "%matplotlib inline\n",
    "\n",
    "from scipy import interpolate"
   ]
  },
  {
   "cell_type": "markdown",
   "metadata": {},
   "source": [
    "## Generate the spectrum"
   ]
  },
  {
   "cell_type": "code",
   "execution_count": 2,
   "metadata": {},
   "outputs": [],
   "source": [
    "# Coordinates of individual points:\n",
    "x_set = np.arange(0, 11)*100\n",
    "y_set = np.zeros_like(x_set)\n",
    "\n",
    "# Manually create realistic spectrum\n",
    "y_set[0] = 0\n",
    "y_set[1] = 0\n",
    "y_set[2] = 250\n",
    "y_set[3] = 90\n",
    "y_set[4] = 20\n",
    "y_set[5] = 10\n",
    "y_set[6] = 10\n",
    "y_set[7] = 40\n",
    "y_set[8] = 0\n",
    "y_set[9] = 0\n",
    "y_set[10] = 0"
   ]
  },
  {
   "cell_type": "code",
   "execution_count": 3,
   "metadata": {},
   "outputs": [],
   "source": [
    "# interpolate:\n",
    "interpolator = interpolate.interp1d(x_set,y_set,kind='cubic')\n",
    "x = np.arange(0, 1000)\n",
    "y = interpolator(x)\n",
    "# clip negative numbers:\n",
    "y[y<0] = 0\n",
    "# scale max to 1000:\n",
    "y = y*(1000/y.max())\n",
    "\n",
    "# set to 0 after 800\n",
    "y[800:] = 0\n",
    "\n"
   ]
  },
  {
   "cell_type": "code",
   "execution_count": 4,
   "metadata": {},
   "outputs": [
    {
     "data": {
      "text/plain": [
       "[<matplotlib.lines.Line2D at 0x7f1c29d60af0>]"
      ]
     },
     "execution_count": 4,
     "metadata": {},
     "output_type": "execute_result"
    },
    {
     "data": {
      "image/png": "[encoded data removed]",
      "text/plain": [
       "<Figure size 432x288 with 1 Axes>"
      ]
     },
     "metadata": {
      "needs_background": "light"
     },
     "output_type": "display_data"
    }
   ],
   "source": [
    "plt.plot(x,y)"
   ]
  },
  {
   "cell_type": "markdown",
   "metadata": {},
   "source": [
    "## Convert spectrum to \"flight times\"\n",
    "(Just by flipping the arrays)"
   ]
  },
  {
   "cell_type": "code",
   "execution_count": 5,
   "metadata": {},
   "outputs": [
    {
     "data": {
      "image/png": "[encoded data removed]",
      "text/plain": [
       "<Figure size 432x288 with 1 Axes>"
      ]
     },
     "metadata": {
      "needs_background": "light"
     },
     "output_type": "display_data"
    }
   ],
   "source": [
    "y_flip = np.flip(y)\n",
    "y_shifted = np.zeros_like(y)\n",
    "y_shifted[0:1000-200] = y_flip[200:1000]\n",
    "# convert to int:\n",
    "y_shifted_int = y_shifted.astype(int)\n",
    "plt.plot(x, y_shifted_int/1000., color=\"green\")\n",
    "plt.fill(x, y_shifted_int/1000., facecolor='green', alpha=0.1)\n",
    "\n",
    "plt.xlabel(\"$t_0$\")\n",
    "plt.ylabel(\"$p$\")\n",
    "plt.title(\"Spectrum\")\n",
    "# mark a point outside the spectrum:\n",
    "plt.scatter((250), (0.4), color=\"red\")\n",
    "plt.annotate(\"A\", (250+20,0.4))\n",
    "\n",
    "# mark a point outside the spectrum:\n",
    "plt.scatter((600), (0.2), color=\"blue\")\n",
    "plt.annotate(\"B\", (600+20,0.2))\n",
    "\n",
    "plt.savefig(\"plot_idea.pdf\")"
   ]
  },
  {
   "cell_type": "markdown",
   "metadata": {},
   "source": [
    "## Generate SystemVerilog array and store in file LUT.sv"
   ]
  },
  {
   "cell_type": "code",
   "execution_count": 6,
   "metadata": {},
   "outputs": [],
   "source": [
    "# Syntax of the LUT:\n",
    "#logic unsigned [9:0] LUT [0:1023] = '{10'd123, 10'd124, ...};\n",
    "with open(\"LUT_spectrum.sv\",\"w\") as f:\n",
    "    f.write(\"// Lookup table holding the desired flight time spectrum \\n\")\n",
    "    f.write(\"// (generated by the Jupyter notebook SpectrumGenerator) \\n\")\n",
    "    f.write(\"// For compatibility with the Xilinx RAM/ROM: The output is registered. \\n\")\n",
    "    f.write(\"module LUT_spectrum(\\n    input  logic      clk_i,\\n    input  logic[9:0] addr_i,\\n    output logic[9:0] data_o\\n);\\n\\n\")\n",
    "    f.write(\"    logic unsigned [9:0] LUT_spectrum_array [0:1023] = '{\\n\")\n",
    "    for i in range(0, 1000):\n",
    "        f.write(\"        10'd\" + str(y_shifted_int[i]) + ',\\n')\n",
    "    for i in range(1000, 1023):\n",
    "        f.write(\"        10'd0,\\n\")\n",
    "    f.write(\"        10'd0\\n    };\\n\\n\")\n",
    "    f.write(\"    always_ff @(posedge clk_i) begin\\n\")\n",
    "    f.write(\"        data_o <= LUT_spectrum_array[addr_i];\\n\")\n",
    "    f.write(\"    end\\n\\n\")\n",
    "    f.write(\"endmodule\\n\")\n",
    "    f.close()"
   ]
  },
  {
   "cell_type": "markdown",
   "metadata": {},
   "source": []
  },
  {
   "cell_type": "code",
   "execution_count": null,
   "metadata": {},
   "outputs": [],
   "source": []
  },
  {
   "cell_type": "code",
   "execution_count": null,
   "metadata": {},
   "outputs": [],
   "source": []
  },
  {
   "cell_type": "code",
   "execution_count": null,
   "metadata": {},
   "outputs": [],
   "source": []
  },
  {
   "cell_type": "code",
   "execution_count": null,
   "metadata": {},
   "outputs": [],
   "source": []
  },
  {
   "cell_type": "code",
   "execution_count": null,
   "metadata": {},
   "outputs": [],
   "source": []
  }
 ],
 "metadata": {
  "kernelspec": {
   "display_name": "Python 3 (ipykernel)",
   "language": "python",
   "name": "python3"
  },
  "language_info": {
   "codemirror_mode": {
    "name": "ipython",
    "version": 3
   },
   "file_extension": ".py",
   "mimetype": "text/x-python",
   "name": "python",
   "nbconvert_exporter": "python",
   "pygments_lexer": "ipython3",
   "version": "3.10.6"
  }
 },
 "nbformat": 4,
 "nbformat_minor": 4
}
