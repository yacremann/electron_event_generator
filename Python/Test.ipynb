{
 "cells": [
  {
   "cell_type": "code",
   "execution_count": 3,
   "metadata": {},
   "outputs": [],
   "source": [
    "import serial"
   ]
  },
  {
   "cell_type": "code",
   "execution_count": 119,
   "metadata": {},
   "outputs": [
    {
     "name": "stdout",
     "output_type": "stream",
     "text": [
      "['/dev/ttyUSB1']\n"
     ]
    }
   ],
   "source": [
    "import glob\n"
   ]
  },
  {
   "cell_type": "code",
   "execution_count": null,
   "metadata": {},
   "outputs": [],
   "source": []
  },
  {
   "cell_type": "code",
   "execution_count": 166,
   "metadata": {},
   "outputs": [],
   "source": [
    "class DldSimulatorException(RuntimeError):\n",
    "    def __init__(self, arg):\n",
    "        self.args = arg\n",
    "\n",
    "class PulseConfig:\n",
    "    t0     =  100\n",
    "    x      =    0\n",
    "    y      =    0\n",
    "    active = True\n",
    "    \n",
    "    def validate(self):\n",
    "        valid = True\n",
    "        if (self.t0 < 0):\n",
    "            valid = False\n",
    "        if (self.t0 > 800):\n",
    "            valid = False\n",
    "        if (self.x < -32):\n",
    "            valid = False\n",
    "        if (self.x > 31):\n",
    "            valid = False\n",
    "        if (self.y < -32):\n",
    "            valid = False\n",
    "        if (self.y > 31):\n",
    "            valid = False\n",
    "        return valid\n",
    "            \n",
    "    def createControlWord(self):\n",
    "        if (not self.validate()):\n",
    "            raise DldSimulatorException(\"Invalid pulse configuration\")\n",
    "        controlWord = self.t0\n",
    "        controlWord = controlWord | (((self.x + 32) & 0b111111) << 10)\n",
    "        controlWord = controlWord | (((self.y + 32) & 0b111111) << 16)\n",
    "        if (self.active):\n",
    "            controlWord = controlWord | (0x1 << 22)\n",
    "        return controlWord\n",
    "    \n",
    "    def readControlWord(self, controlWord):\n",
    "        self.t0 = controlWord & 0b1111111111\n",
    "        self.x  = ((controlWord >> 10) & 0b111111) -32\n",
    "        self.y  = ((controlWord >> 16) & 0b111111) -32\n",
    "        self.active = (((controlWord >> 22) & 0x01) == 1)\n",
    "        if (not self.validate()):\n",
    "            raise DldSimulatorException(\"Invalid pulse configuration\")\n",
    "        \n",
    "    def to_string(self):\n",
    "        return \"t0 = \" + str(self.t0) + \"  x = \" + str(self.x) + \"  y = \" + str(self.y) + \" active = \" + str(self.active)\n",
    "    \n",
    "    def set(self, t0, x, y, active):\n",
    "        self.x = x\n",
    "        self.y = y\n",
    "        self.t0 = t0\n",
    "        self.active = active\n",
    "        \n",
    "\n",
    "\n",
    "\n",
    "\n",
    "    \n",
    "class DldSimulator:\n",
    "    \n",
    "    ADDR_START_CONFIG       = 0x44a0_0004\n",
    "    ADDR_MULTI_SPECTRUM_GEN = 0x44a0_0100\n",
    "    ADDR_LIST_GEN1_BASE     = 0x44a0_0200\n",
    "    ADDR_LIST_GEN2_BASE     = 0x44a0_0400\n",
    "    \n",
    "    \n",
    "    def __init__(self, commPort):\n",
    "        self.s = serial.Serial(commPort, baudrate=115200)\n",
    "        self.s.timeout = 1.0\n",
    "        self.s.reset_input_buffer()\n",
    "        self.s.reset_output_buffer()\n",
    "        \n",
    "        \n",
    "    def __delete__(self):\n",
    "        self.s.close()\n",
    "        \n",
    "\n",
    "    \"\"\"\n",
    "    Write one word (32 bits) to the data bus\n",
    "    \"\"\"\n",
    "    def writeToBus(self, addr, data):\n",
    "        send_str = \"w \" + hex(addr) + \" \" + hex(data) + \"\\n\"\n",
    "        self.s.write(send_str.encode('ascii'))\n",
    "        ret = self.s.readline()\n",
    "        if (ret.decode('ascii') != 'OK\\n'):\n",
    "            raise DldSimulatorException(\"Communication error\")\n",
    "\n",
    "    \"\"\"\n",
    "    Read one word (32 bits) from the data bus\n",
    "    \"\"\"\n",
    "    def readFromBus(self, addr):\n",
    "        send_str = \"r \" + hex(addr) + \"\\n\"\n",
    "        self.s.write(send_str.encode('ascii'))\n",
    "        ret = self.s.readline().decode('ascii')\n",
    "        return int(ret, 16)\n",
    "\n",
    "    \"\"\"\n",
    "    Use the external start signal. The start interval settings are unaltered.\n",
    "    \"\"\"\n",
    "    def useExternalStart(self):\n",
    "        oldValue = self.readFromBus(self.ADDR_START_CONFIG)\n",
    "        self.writeToBus(self.ADDR_START_CONFIG, oldValue | 0x0001_0000)\n",
    "\n",
    "    \"\"\"\n",
    "    Use the internally generated start signal. The start interval settings are unaltered.\n",
    "    \"\"\"    \n",
    "    def useInternalStart(self):\n",
    "        oldValue = self.readFromBus(self.ADDR_START_CONFIG)\n",
    "        self.writeToBus(self.ADDR_START_CONFIG, oldValue & ~0x0001_0000)\n",
    "    \n",
    "    \"\"\"\n",
    "    Return True if the external start signal is used.\n",
    "    \"\"\"\n",
    "    def isExternalStart(self):\n",
    "        value = self.readFromBus(self.ADDR_START_CONFIG)\n",
    "        return ((value & 0x0001_0000) == 0x0001_0000)\n",
    "\n",
    "    \"\"\"\n",
    "    Set the start interval (num. of clock cycles between internally generated start pulses)\n",
    "    This method does not switch to the internally generated start signal.\n",
    "    \"\"\"\n",
    "    def setInternalStartInterval(self,interval):\n",
    "        if (interval < 100):\n",
    "            raise DldSimulatorException(\"Start inverval too small\")\n",
    "        if (interval > 0xffff):\n",
    "            raise DldSimulatorException(\"Start inverval too large\")\n",
    "        oldValue = self.readFromBus(self.ADDR_START_CONFIG)\n",
    "        self.writeToBus(self.ADDR_START_CONFIG, (oldValue & 0xffff_0000) | interval)\n",
    "    \n",
    "    \n",
    "    \"\"\"\n",
    "    Get the start interval (num. of clock cycles between internally generated start pulses)\n",
    "    \"\"\"\n",
    "    def getInternalStartInterval(self):\n",
    "        value = self.readFromBus(self.ADDR_START_CONFIG)\n",
    "        return (value & 0xffff)\n",
    "\n",
    "    \"\"\"\n",
    "    Activate numOfGenerators spectrum generators\n",
    "    \"\"\"\n",
    "    def setActiveSpectrumGenerators(self, numOfGenerators):\n",
    "        if (numOfGenerators < 0):\n",
    "            raise DldSimulatorException(\"Num of generators can not be negative\")\n",
    "        if (numOfGenerators > 32):\n",
    "            raise DldSimulatorException(\"Num of generators can not be larger than 32\")\n",
    "        value = 0xffffffff >> (32-numOfGenerators)\n",
    "        self.writeToBus(self.ADDR_MULTI_SPECTRUM_GEN, value)\n",
    "        \n",
    "    \"\"\"\n",
    "    Get the number of active spectrum generators\n",
    "    \"\"\"    \n",
    "    def getActiveSpectrumGenerators(self):\n",
    "        value = self.readFromBus(self.ADDR_MULTI_SPECTRUM_GEN)\n",
    "        return bin(value).count(\"1\")\n",
    "    \n",
    "    \n",
    "    def setListGenerator(self, channel, listOfPulses):\n",
    "        if (channel < 1):\n",
    "            raise DldSimulatorException(\"Channel number can not be negative\")\n",
    "        if (channel > 2):\n",
    "            raise DldSimulatorException(\"Channel number can not be larger than 1\")\n",
    "        \n",
    "        numOfPulses = len(listOfPulses)\n",
    "        \n",
    "        if (numOfPulses > 64):\n",
    "            raise DldSimulatorException(\"List of pulses to large, max. 64\")\n",
    "        \n",
    "        if (channel == 1):        \n",
    "            baseAddr = self.ADDR_LIST_GEN1_BASE\n",
    "        else:\n",
    "            baseAddr = self.ADDR_LIST_GEN2_BASE\n",
    "        \n",
    "        for p in listOfPulses:\n",
    "            if (not p.validate()):\n",
    "                raise DldSimulatorException(\"Invalid pulse configuration\")\n",
    "        \n",
    "        addrCounter = baseAddr\n",
    "        for p in listOfPulses:\n",
    "            self.writeToBus(addrCounter, p.createControlWord())\n",
    "            addrCounter = addrCounter + 4\n",
    "            \n",
    "        if (numOfPulses < 64):\n",
    "            self.writeToBus(addrCounter, 0x00)\n",
    "        \n",
    "        \n",
    "    def getListGenerator(self, channel):\n",
    "        if (channel < 1):\n",
    "            raise DldSimulatorException(\"Channel number can not be negative\")\n",
    "        if (channel > 2):\n",
    "            raise DldSimulatorException(\"Channel number can not be larger than 1\")\n",
    "            \n",
    "        if (channel == 1):        \n",
    "            baseAddr = self.ADDR_LIST_GEN1_BASE\n",
    "        else:\n",
    "            baseAddr = self.ADDR_LIST_GEN2_BASE\n",
    "        \n",
    "        result = []\n",
    "        currentElementIndex = 0\n",
    "        while(True):\n",
    "            if (currentElementIndex >= 64):\n",
    "                break\n",
    "            word = self.readFromBus(baseAddr+currentElementIndex*4)\n",
    "            if (word == 0):\n",
    "                break\n",
    "            p = PulseConfig()\n",
    "            p.readControlWord(word)\n",
    "            result.append(p)\n",
    "            currentElementIndex = currentElementIndex + 1\n",
    "        return result\n",
    "    \n",
    "    \n",
    "    def setListGeneratorActive(self, channel, active):\n",
    "        if (channel < 1):\n",
    "            raise DldSimulatorException(\"Channel number can not be negative\")\n",
    "        if (channel > 2):\n",
    "            raise DldSimulatorException(\"Channel number can not be larger than 1\")\n",
    "            \n",
    "        if (channel == 1):        \n",
    "            baseAddr = self.ADDR_LIST_GEN1_BASE\n",
    "        else:\n",
    "            baseAddr = self.ADDR_LIST_GEN2_BASE\n",
    "        \n",
    "        self.writeToBus(baseAddr + 0x100, active)\n",
    "        \n",
    "    def isListGeneratorActive(self, channel):\n",
    "        if (channel < 1):\n",
    "            raise DldSimulatorException(\"Channel number can not be negative\")\n",
    "        if (channel > 2):\n",
    "            raise DldSimulatorException(\"Channel number can not be larger than 1\")\n",
    "            \n",
    "        if (channel == 1):        \n",
    "            baseAddr = self.ADDR_LIST_GEN1_BASE\n",
    "        else:\n",
    "            baseAddr = self.ADDR_LIST_GEN2_BASE\n",
    "            \n",
    "        return (self.readFromBus(baseAddr + 0x100) == 0x01)\n",
    "        "
   ]
  },
  {
   "cell_type": "code",
   "execution_count": 112,
   "metadata": {},
   "outputs": [],
   "source": [
    "p = PulseConfig()"
   ]
  },
  {
   "cell_type": "code",
   "execution_count": 84,
   "metadata": {},
   "outputs": [],
   "source": [
    "p.set(700, 10, -20, True)"
   ]
  },
  {
   "cell_type": "code",
   "execution_count": 85,
   "metadata": {},
   "outputs": [
    {
     "data": {
      "text/plain": [
       "'t0 = 700  x = 10  y = -20 active = True'"
      ]
     },
     "execution_count": 85,
     "metadata": {},
     "output_type": "execute_result"
    }
   ],
   "source": [
    "p.createControlWord()\n",
    "p2 = PulseConfig()\n",
    "p2.readControlWord(p.createControlWord())\n",
    "p2.to_string()"
   ]
  },
  {
   "cell_type": "code",
   "execution_count": 72,
   "metadata": {},
   "outputs": [],
   "source": [
    "dld = DldSimulatorComm('/dev/ttyUSB1')"
   ]
  },
  {
   "cell_type": "code",
   "execution_count": 73,
   "metadata": {},
   "outputs": [],
   "source": [
    "dld.setListGenerator(1, [p, p2])"
   ]
  },
  {
   "cell_type": "code",
   "execution_count": 74,
   "metadata": {},
   "outputs": [],
   "source": [
    "pulses = dld.getListGenerator(1)"
   ]
  },
  {
   "cell_type": "code",
   "execution_count": 77,
   "metadata": {},
   "outputs": [
    {
     "data": {
      "text/plain": [
       "'t0 = 700  x = 10  y = -20 active = True'"
      ]
     },
     "execution_count": 77,
     "metadata": {},
     "output_type": "execute_result"
    }
   ],
   "source": [
    "pulses[1].to_string()"
   ]
  },
  {
   "cell_type": "code",
   "execution_count": 36,
   "metadata": {},
   "outputs": [],
   "source": [
    "setInternalStartInterval(300)"
   ]
  },
  {
   "cell_type": "code",
   "execution_count": 167,
   "metadata": {},
   "outputs": [
    {
     "name": "stderr",
     "output_type": "stream",
     "text": [
      "test_DldSimulator (__main__.TestDldSim) ... ok\n",
      "test_pulse_config (__main__.TestDldSim) ... ok\n",
      "\n",
      "----------------------------------------------------------------------\n",
      "Ran 2 tests in 3.252s\n",
      "\n",
      "OK\n"
     ]
    },
    {
     "data": {
      "text/plain": [
       "<unittest.main.TestProgram at 0x7f578baef190>"
      ]
     },
     "execution_count": 167,
     "metadata": {},
     "output_type": "execute_result"
    }
   ],
   "source": [
    "import unittest\n",
    "\n",
    "class TestDldSim(unittest.TestCase):\n",
    "\n",
    "    def test_pulse_config(self):\n",
    "        p = PulseConfig()\n",
    "        # test set()\n",
    "        p.set(123,12,-23,True)\n",
    "        self.assertEqual(p.t0, 123)\n",
    "        self.assertEqual(p.x ,  12)\n",
    "        self.assertEqual(p.y , -23)\n",
    "        self.assertEqual(p.active, True)\n",
    "        # test validate()\n",
    "        self.assertEqual(p.validate(), True)\n",
    "        p.t0 = -1\n",
    "        self.assertEqual(p.validate(), False)\n",
    "        p.t0 = 123\n",
    "        self.assertEqual(p.validate(), True)\n",
    "        p.x = -33\n",
    "        self.assertEqual(p.validate(), False)\n",
    "        p.x = 12\n",
    "        self.assertEqual(p.validate(), True)\n",
    "        p.y = 32\n",
    "        self.assertEqual(p.validate(), False)\n",
    "        p.y = -23\n",
    "        self.assertEqual(p.validate(), True)\n",
    "        \n",
    "        controlWord = p.createControlWord()\n",
    "        self.assertEqual(controlWord, 0x49b07b)\n",
    "        p.set(55,33,-99,True)\n",
    "        with self.assertRaises(DldSimulatorException):\n",
    "            p.createControlWord()\n",
    "            \n",
    "        p.readControlWord(0x49b07b)\n",
    "        self.assertEqual(p.t0, 123)\n",
    "        self.assertEqual(p.x ,  12)\n",
    "        self.assertEqual(p.y , -23)\n",
    "        self.assertEqual(p.active, True)\n",
    "        \n",
    "    def test_DldSimulator(self):\n",
    "        tty = glob.glob(\"/dev/ttyUSB*\")[0]\n",
    "        dld = DldSimulator(tty)\n",
    "        dld.writeToBus(dld.ADDR_START_CONFIG, 0xdeadbeef)\n",
    "        self.assertEqual(dld.readFromBus(dld.ADDR_START_CONFIG), 0xdeadbeef)\n",
    "        \n",
    "        # test start config\n",
    "        dld.useExternalStart()\n",
    "        self.assertEqual(dld.isExternalStart(), True)\n",
    "        \n",
    "        dld.useInternalStart()\n",
    "        self.assertEqual(dld.isExternalStart(), False)\n",
    "        with self.assertRaises(DldSimulatorException):\n",
    "            dld.setInternalStartInterval(-1)\n",
    "        with self.assertRaises(DldSimulatorException):\n",
    "            dld.setInternalStartInterval(0x10000)\n",
    "            \n",
    "        dld.setInternalStartInterval(3456)\n",
    "        self.assertEqual(dld.getInternalStartInterval(), 3456)\n",
    "        self.assertEqual(dld.isExternalStart(), False)\n",
    "        \n",
    "        # test SpectrumGenerators\n",
    "        with self.assertRaises(DldSimulatorException):\n",
    "            dld.setActiveSpectrumGenerators(-1)\n",
    "        with self.assertRaises(DldSimulatorException):\n",
    "            dld.setActiveSpectrumGenerators(33)\n",
    "        dld.setActiveSpectrumGenerators(11)\n",
    "        self.assertEqual(dld.getActiveSpectrumGenerators(), 11)\n",
    "        self.assertEqual(dld.readFromBus(dld.ADDR_MULTI_SPECTRUM_GEN), 0b11111111111)\n",
    "        \n",
    "        # test ListGenerator\n",
    "        dld.setListGenerator(1, [])\n",
    "        self.assertEqual(len(dld.getListGenerator(1)), 0)\n",
    "        \n",
    "        p0 = PulseConfig()\n",
    "        p0.set(123,12,21,True)\n",
    "        p1 = PulseConfig()\n",
    "        p1.set(123,12,21,True)\n",
    "        pf = PulseConfig()\n",
    "        pf.set(123,456,789,True)\n",
    "        with self.assertRaises(DldSimulatorException):\n",
    "            dld.setListGenerator(1, [p0, p1, pf])\n",
    "            \n",
    "        # generate list of 64 entries\n",
    "        pulseList = []\n",
    "        for i in range(0, 64):\n",
    "            p = PulseConfig()\n",
    "            p.set(i*10, i%12, (i%23)-5, True)\n",
    "            pulseList.append(p)\n",
    "            \n",
    "        dld.setListGenerator(1, pulseList)\n",
    "        readbackList = dld.getListGenerator(1)\n",
    "        for i in range(0, 64):\n",
    "            self.assertEqual(pulseList[i].to_string(), readbackList[i].to_string())\n",
    "            \n",
    "            \n",
    "        # generate list of 64 entries\n",
    "        pulseList = []\n",
    "        for i in range(0, 10):\n",
    "            p = PulseConfig()\n",
    "            p.set(i*9, i%12, (i%23)-5, True)\n",
    "            pulseList.append(p)\n",
    "        \n",
    "        # test, if we write 0 at the end of the list in memory:\n",
    "        dld.writeToBus(dld.ADDR_LIST_GEN1_BASE + 4*10, 1234)\n",
    "        dld.setListGenerator(1, pulseList)\n",
    "        readbackList = dld.getListGenerator(1)\n",
    "        for i in range(0, 10):\n",
    "            self.assertEqual(pulseList[i].to_string(), readbackList[i].to_string())\n",
    "        # check for the 0 at the end in memory\n",
    "        self.assertEqual(dld.readFromBus(dld.ADDR_LIST_GEN1_BASE + 4*10), 0)\n",
    "        \n",
    "        \n",
    "        # test channel 2:\n",
    "        # generate list of 64 entries\n",
    "        pulseList2 = []\n",
    "        for i in range(0, 4):\n",
    "            p = PulseConfig()\n",
    "            p.set(i*3, i%7, (i%33)-17, True)\n",
    "            pulseList2.append(p)\n",
    "        dld.setListGenerator(2, pulseList2)\n",
    "        readbackList2 = dld.getListGenerator(2)\n",
    "        for i in range(0, 4):\n",
    "            self.assertEqual(pulseList2[i].to_string(), readbackList2[i].to_string())\n",
    "            \n",
    "        # test if generator 1 has not been altered:\n",
    "        readbackList = dld.getListGenerator(1)\n",
    "        for i in range(0, 10):\n",
    "            self.assertEqual(pulseList[i].to_string(), readbackList[i].to_string())\n",
    "        # check for the 0 at the end in memory\n",
    "        self.assertEqual(dld.readFromBus(dld.ADDR_LIST_GEN1_BASE + 4*10), 0)\n",
    "        \n",
    "        # test activation of the list generator\n",
    "        dld.setListGeneratorActive(1, True)\n",
    "        self.assertEqual(dld.readFromBus(dld.ADDR_LIST_GEN1_BASE + 0x100), 0x01)\n",
    "        self.assertEqual(dld.isListGeneratorActive(1), True)\n",
    "        \n",
    "        dld.setListGeneratorActive(1, False)\n",
    "        self.assertEqual(dld.readFromBus(dld.ADDR_LIST_GEN1_BASE + 0x100), 0x00)\n",
    "        self.assertEqual(dld.isListGeneratorActive(1), False)\n",
    "        \n",
    "        dld.setListGeneratorActive(2, True)\n",
    "        self.assertEqual(dld.readFromBus(dld.ADDR_LIST_GEN2_BASE + 0x100), 0x01)\n",
    "        self.assertEqual(dld.isListGeneratorActive(2), True)\n",
    "        \n",
    "        dld.setListGeneratorActive(2, False)\n",
    "        self.assertEqual(dld.readFromBus(dld.ADDR_LIST_GEN2_BASE + 0x100), 0x00)\n",
    "        self.assertEqual(dld.isListGeneratorActive(2), False)\n",
    "        \n",
    "#if __name__ == '__main__':\n",
    "    #unittest.main()\n",
    "\n",
    "unittest.main(argv=[''], verbosity=3, exit=False)"
   ]
  },
  {
   "cell_type": "code",
   "execution_count": 113,
   "metadata": {},
   "outputs": [
    {
     "ename": "DldSimulatorException",
     "evalue": "('I', 'n', 'v', 'a', 'l', 'i', 'd', ' ', 'p', 'u', 'l', 's', 'e', ' ', 'c', 'o', 'n', 'f', 'i', 'g', 'u', 'r', 'a', 't', 'i', 'o', 'n')",
     "output_type": "error",
     "traceback": [
      "\u001b[0;31m---------------------------------------------------------------------------\u001b[0m",
      "\u001b[0;31mDldSimulatorException\u001b[0m                     Traceback (most recent call last)",
      "\u001b[0;32m<ipython-input-113-d54c90d92ff0>\u001b[0m in \u001b[0;36m<module>\u001b[0;34m\u001b[0m\n\u001b[1;32m      1\u001b[0m \u001b[0mp\u001b[0m\u001b[0;34m.\u001b[0m\u001b[0mset\u001b[0m\u001b[0;34m(\u001b[0m\u001b[0;36m123\u001b[0m\u001b[0;34m,\u001b[0m\u001b[0;36m12\u001b[0m\u001b[0;34m,\u001b[0m\u001b[0;34m-\u001b[0m\u001b[0;36m99\u001b[0m\u001b[0;34m,\u001b[0m\u001b[0;32mTrue\u001b[0m\u001b[0;34m)\u001b[0m\u001b[0;34m\u001b[0m\u001b[0;34m\u001b[0m\u001b[0m\n\u001b[0;32m----> 2\u001b[0;31m \u001b[0mhex\u001b[0m\u001b[0;34m(\u001b[0m\u001b[0mp\u001b[0m\u001b[0;34m.\u001b[0m\u001b[0mcreateControlWord\u001b[0m\u001b[0;34m(\u001b[0m\u001b[0;34m)\u001b[0m\u001b[0;34m)\u001b[0m\u001b[0;34m\u001b[0m\u001b[0;34m\u001b[0m\u001b[0m\n\u001b[0m",
      "\u001b[0;32m<ipython-input-111-37d1f3db0709>\u001b[0m in \u001b[0;36mcreateControlWord\u001b[0;34m(self)\u001b[0m\n\u001b[1;32m     27\u001b[0m     \u001b[0;32mdef\u001b[0m \u001b[0mcreateControlWord\u001b[0m\u001b[0;34m(\u001b[0m\u001b[0mself\u001b[0m\u001b[0;34m)\u001b[0m\u001b[0;34m:\u001b[0m\u001b[0;34m\u001b[0m\u001b[0;34m\u001b[0m\u001b[0m\n\u001b[1;32m     28\u001b[0m         \u001b[0;32mif\u001b[0m \u001b[0;34m(\u001b[0m\u001b[0;32mnot\u001b[0m \u001b[0mself\u001b[0m\u001b[0;34m.\u001b[0m\u001b[0mvalidate\u001b[0m\u001b[0;34m(\u001b[0m\u001b[0;34m)\u001b[0m\u001b[0;34m)\u001b[0m\u001b[0;34m:\u001b[0m\u001b[0;34m\u001b[0m\u001b[0;34m\u001b[0m\u001b[0m\n\u001b[0;32m---> 29\u001b[0;31m             \u001b[0;32mraise\u001b[0m \u001b[0mDldSimulatorException\u001b[0m\u001b[0;34m(\u001b[0m\u001b[0;34m\"Invalid pulse configuration\"\u001b[0m\u001b[0;34m)\u001b[0m\u001b[0;34m\u001b[0m\u001b[0;34m\u001b[0m\u001b[0m\n\u001b[0m\u001b[1;32m     30\u001b[0m         \u001b[0mcontrolWord\u001b[0m \u001b[0;34m=\u001b[0m \u001b[0mself\u001b[0m\u001b[0;34m.\u001b[0m\u001b[0mt0\u001b[0m\u001b[0;34m\u001b[0m\u001b[0;34m\u001b[0m\u001b[0m\n\u001b[1;32m     31\u001b[0m         \u001b[0mcontrolWord\u001b[0m \u001b[0;34m=\u001b[0m \u001b[0mcontrolWord\u001b[0m \u001b[0;34m|\u001b[0m \u001b[0;34m(\u001b[0m\u001b[0;34m(\u001b[0m\u001b[0;34m(\u001b[0m\u001b[0mself\u001b[0m\u001b[0;34m.\u001b[0m\u001b[0mx\u001b[0m \u001b[0;34m+\u001b[0m \u001b[0;36m32\u001b[0m\u001b[0;34m)\u001b[0m \u001b[0;34m&\u001b[0m \u001b[0;36m0b111111\u001b[0m\u001b[0;34m)\u001b[0m \u001b[0;34m<<\u001b[0m \u001b[0;36m10\u001b[0m\u001b[0;34m)\u001b[0m\u001b[0;34m\u001b[0m\u001b[0;34m\u001b[0m\u001b[0m\n",
      "\u001b[0;31mDldSimulatorException\u001b[0m: ('I', 'n', 'v', 'a', 'l', 'i', 'd', ' ', 'p', 'u', 'l', 's', 'e', ' ', 'c', 'o', 'n', 'f', 'i', 'g', 'u', 'r', 'a', 't', 'i', 'o', 'n')"
     ]
    }
   ],
   "source": []
  },
  {
   "cell_type": "code",
   "execution_count": 60,
   "metadata": {},
   "outputs": [
    {
     "ename": "ValueError",
     "evalue": "invalid literal for int() with base 16: ''",
     "output_type": "error",
     "traceback": [
      "\u001b[0;31m---------------------------------------------------------------------------\u001b[0m",
      "\u001b[0;31mValueError\u001b[0m                                Traceback (most recent call last)",
      "\u001b[0;32m<ipython-input-60-050e94563f68>\u001b[0m in \u001b[0;36m<module>\u001b[0;34m\u001b[0m\n\u001b[0;32m----> 1\u001b[0;31m \u001b[0mdld\u001b[0m\u001b[0;34m.\u001b[0m\u001b[0msetInternalStartInterval\u001b[0m\u001b[0;34m(\u001b[0m\u001b[0;36m100\u001b[0m\u001b[0;34m)\u001b[0m\u001b[0;34m\u001b[0m\u001b[0;34m\u001b[0m\u001b[0m\n\u001b[0m",
      "\u001b[0;32m<ipython-input-47-c6631b179482>\u001b[0m in \u001b[0;36msetInternalStartInterval\u001b[0;34m(self, interval)\u001b[0m\n\u001b[1;32m     68\u001b[0m         \u001b[0;32mif\u001b[0m \u001b[0;34m(\u001b[0m\u001b[0minterval\u001b[0m \u001b[0;34m>\u001b[0m \u001b[0;36m0xffff\u001b[0m\u001b[0;34m)\u001b[0m\u001b[0;34m:\u001b[0m\u001b[0;34m\u001b[0m\u001b[0;34m\u001b[0m\u001b[0m\n\u001b[1;32m     69\u001b[0m             \u001b[0;32mraise\u001b[0m \u001b[0mDldSimulatorException\u001b[0m\u001b[0;34m(\u001b[0m\u001b[0;34m\"Start inverval too large\"\u001b[0m\u001b[0;34m)\u001b[0m\u001b[0;34m\u001b[0m\u001b[0;34m\u001b[0m\u001b[0m\n\u001b[0;32m---> 70\u001b[0;31m         \u001b[0moldValue\u001b[0m \u001b[0;34m=\u001b[0m \u001b[0mself\u001b[0m\u001b[0;34m.\u001b[0m\u001b[0mreadFromBus\u001b[0m\u001b[0;34m(\u001b[0m\u001b[0mself\u001b[0m\u001b[0;34m.\u001b[0m\u001b[0mADDR_START_CONFIG\u001b[0m\u001b[0;34m)\u001b[0m\u001b[0;34m\u001b[0m\u001b[0;34m\u001b[0m\u001b[0m\n\u001b[0m\u001b[1;32m     71\u001b[0m         \u001b[0mself\u001b[0m\u001b[0;34m.\u001b[0m\u001b[0mwriteToBus\u001b[0m\u001b[0;34m(\u001b[0m\u001b[0mself\u001b[0m\u001b[0;34m.\u001b[0m\u001b[0mADDR_START_CONFIG\u001b[0m\u001b[0;34m,\u001b[0m \u001b[0;34m(\u001b[0m\u001b[0moldValue\u001b[0m \u001b[0;34m&\u001b[0m \u001b[0;36m0xffff_0000\u001b[0m\u001b[0;34m)\u001b[0m \u001b[0;34m|\u001b[0m \u001b[0minterval\u001b[0m\u001b[0;34m)\u001b[0m\u001b[0;34m\u001b[0m\u001b[0;34m\u001b[0m\u001b[0m\n\u001b[1;32m     72\u001b[0m \u001b[0;34m\u001b[0m\u001b[0m\n",
      "\u001b[0;32m<ipython-input-47-c6631b179482>\u001b[0m in \u001b[0;36mreadFromBus\u001b[0;34m(self, addr)\u001b[0m\n\u001b[1;32m     36\u001b[0m         \u001b[0mself\u001b[0m\u001b[0;34m.\u001b[0m\u001b[0ms\u001b[0m\u001b[0;34m.\u001b[0m\u001b[0mwrite\u001b[0m\u001b[0;34m(\u001b[0m\u001b[0msend_str\u001b[0m\u001b[0;34m.\u001b[0m\u001b[0mencode\u001b[0m\u001b[0;34m(\u001b[0m\u001b[0;34m'ascii'\u001b[0m\u001b[0;34m)\u001b[0m\u001b[0;34m)\u001b[0m\u001b[0;34m\u001b[0m\u001b[0;34m\u001b[0m\u001b[0m\n\u001b[1;32m     37\u001b[0m         \u001b[0mret\u001b[0m \u001b[0;34m=\u001b[0m \u001b[0mself\u001b[0m\u001b[0;34m.\u001b[0m\u001b[0ms\u001b[0m\u001b[0;34m.\u001b[0m\u001b[0mreadline\u001b[0m\u001b[0;34m(\u001b[0m\u001b[0;34m)\u001b[0m\u001b[0;34m.\u001b[0m\u001b[0mdecode\u001b[0m\u001b[0;34m(\u001b[0m\u001b[0;34m'ascii'\u001b[0m\u001b[0;34m)\u001b[0m\u001b[0;34m\u001b[0m\u001b[0;34m\u001b[0m\u001b[0m\n\u001b[0;32m---> 38\u001b[0;31m         \u001b[0;32mreturn\u001b[0m \u001b[0mint\u001b[0m\u001b[0;34m(\u001b[0m\u001b[0mret\u001b[0m\u001b[0;34m,\u001b[0m \u001b[0;36m16\u001b[0m\u001b[0;34m)\u001b[0m\u001b[0;34m\u001b[0m\u001b[0;34m\u001b[0m\u001b[0m\n\u001b[0m\u001b[1;32m     39\u001b[0m \u001b[0;34m\u001b[0m\u001b[0m\n\u001b[1;32m     40\u001b[0m     \"\"\"\n",
      "\u001b[0;31mValueError\u001b[0m: invalid literal for int() with base 16: ''"
     ]
    }
   ],
   "source": [
    "dld.setInternalStartInterval(100)"
   ]
  },
  {
   "cell_type": "code",
   "execution_count": 14,
   "metadata": {},
   "outputs": [
    {
     "data": {
      "text/plain": [
       "2147483647"
      ]
     },
     "execution_count": 14,
     "metadata": {},
     "output_type": "execute_result"
    }
   ],
   "source": [
    "0xffffffff >> 1"
   ]
  },
  {
   "cell_type": "code",
   "execution_count": 22,
   "metadata": {},
   "outputs": [
    {
     "data": {
      "text/plain": [
       "1"
      ]
     },
     "execution_count": 22,
     "metadata": {},
     "output_type": "execute_result"
    }
   ],
   "source": [
    "bin(8).count(\"1\")"
   ]
  },
  {
   "cell_type": "code",
   "execution_count": 10,
   "metadata": {},
   "outputs": [],
   "source": [
    "dld.setActiveSpectrumGenerators(10)"
   ]
  },
  {
   "cell_type": "code",
   "execution_count": 11,
   "metadata": {},
   "outputs": [
    {
     "data": {
      "text/plain": [
       "10"
      ]
     },
     "execution_count": 11,
     "metadata": {},
     "output_type": "execute_result"
    }
   ],
   "source": [
    "dld.getActiveSpectrumGenerators()"
   ]
  },
  {
   "cell_type": "code",
   "execution_count": 57,
   "metadata": {},
   "outputs": [
    {
     "data": {
      "text/plain": [
       "291"
      ]
     },
     "execution_count": 57,
     "metadata": {},
     "output_type": "execute_result"
    }
   ],
   "source": [
    "0x1_2_3"
   ]
  },
  {
   "cell_type": "code",
   "execution_count": 61,
   "metadata": {},
   "outputs": [],
   "source": [
    "del dld"
   ]
  },
  {
   "cell_type": "code",
   "execution_count": null,
   "metadata": {},
   "outputs": [],
   "source": []
  }
 ],
 "metadata": {
  "kernelspec": {
   "display_name": "Python 3 (ipykernel)",
   "language": "python",
   "name": "python3"
  },
  "language_info": {
   "codemirror_mode": {
    "name": "ipython",
    "version": 3
   },
   "file_extension": ".py",
   "mimetype": "text/x-python",
   "name": "python",
   "nbconvert_exporter": "python",
   "pygments_lexer": "ipython3",
   "version": "3.10.6"
  }
 },
 "nbformat": 4,
 "nbformat_minor": 4
}
